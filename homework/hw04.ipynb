{
  "nbformat": 4,
  "nbformat_minor": 0,
  "metadata": {
    "colab": {
      "name": "hw04.ipynb",
      "provenance": [],
      "collapsed_sections": []
    },
    "kernelspec": {
      "name": "python3",
      "display_name": "Python 3"
    },
    "language_info": {
      "name": "python"
    }
  },
  "cells": [
    {
      "cell_type": "code",
      "source": [
        "pip install pyspark"
      ],
      "metadata": {
        "colab": {
          "base_uri": "https://localhost:8080/"
        },
        "id": "iCiN0ulTeUk7",
        "outputId": "ee5eddc6-ba17-461a-ebad-13159f156778"
      },
      "execution_count": null,
      "outputs": [
        {
          "output_type": "stream",
          "name": "stdout",
          "text": [
            "Collecting pyspark\n",
            "  Downloading pyspark-3.2.1.tar.gz (281.4 MB)\n",
            "\u001b[K     |████████████████████████████████| 281.4 MB 34 kB/s \n",
            "\u001b[?25hCollecting py4j==0.10.9.3\n",
            "  Downloading py4j-0.10.9.3-py2.py3-none-any.whl (198 kB)\n",
            "\u001b[K     |████████████████████████████████| 198 kB 47.5 MB/s \n",
            "\u001b[?25hBuilding wheels for collected packages: pyspark\n",
            "  Building wheel for pyspark (setup.py) ... \u001b[?25l\u001b[?25hdone\n",
            "  Created wheel for pyspark: filename=pyspark-3.2.1-py2.py3-none-any.whl size=281853642 sha256=750028d6b5e1845b78c3c305ee47187d8fb2826c100764ecb249a2dcc900b226\n",
            "  Stored in directory: /root/.cache/pip/wheels/9f/f5/07/7cd8017084dce4e93e84e92efd1e1d5334db05f2e83bcef74f\n",
            "Successfully built pyspark\n",
            "Installing collected packages: py4j, pyspark\n",
            "Successfully installed py4j-0.10.9.3 pyspark-3.2.1\n"
          ]
        }
      ]
    },
    {
      "cell_type": "code",
      "execution_count": 35,
      "metadata": {
        "id": "P_xnW6cwd7uL"
      },
      "outputs": [],
      "source": [
        "import pyspark\n",
        "#from pyspark.sql.functions import *\n",
        "\n",
        "#creating the spark session\n",
        "\n",
        "spark = pyspark.sql.SparkSession.builder.getOrCreate()\n",
        "sc = spark.sparkContext\n",
        "\n",
        "from pyspark.sql import SparkSession\n",
        "spark = SparkSession.builder.getOrCreate()"
      ]
    },
    {
      "cell_type": "code",
      "source": [
        "spark"
      ],
      "metadata": {
        "colab": {
          "base_uri": "https://localhost:8080/",
          "height": 221
        },
        "id": "GOvwDn6WevSL",
        "outputId": "9516d3ba-4329-4eb5-ba5f-291f31469aad"
      },
      "execution_count": 3,
      "outputs": [
        {
          "output_type": "execute_result",
          "data": {
            "text/html": [
              "\n",
              "            <div>\n",
              "                <p><b>SparkSession - in-memory</b></p>\n",
              "                \n",
              "        <div>\n",
              "            <p><b>SparkContext</b></p>\n",
              "\n",
              "            <p><a href=\"http://7d1639b6f5ea:4040\">Spark UI</a></p>\n",
              "\n",
              "            <dl>\n",
              "              <dt>Version</dt>\n",
              "                <dd><code>v3.2.1</code></dd>\n",
              "              <dt>Master</dt>\n",
              "                <dd><code>local[*]</code></dd>\n",
              "              <dt>AppName</dt>\n",
              "                <dd><code>pyspark-shell</code></dd>\n",
              "            </dl>\n",
              "        </div>\n",
              "        \n",
              "            </div>\n",
              "        "
            ],
            "text/plain": [
              "<pyspark.sql.session.SparkSession at 0x7fa51a80e950>"
            ]
          },
          "metadata": {},
          "execution_count": 3
        }
      ]
    },
    {
      "cell_type": "code",
      "source": [
        "from pyspark.sql.types import StructType,StructField, StringType, IntegerType, FloatType,TimestampType\n",
        "\n",
        "schema_ = StructType([ \n",
        "                     StructField(\"X\", StringType(),True), \\\n",
        "                     StructField(\"Y\",FloatType(),True), \\\n",
        "                     StructField(\"RowID\",IntegerType(),True), \\\n",
        "                     StructField(\"CrimeDate\",StringType(),True), \\\n",
        "                     StructField(\"CrimeCode\",StringType(),True), \\\n",
        "                     StructField(\"Location\",StringType(),True), \\\n",
        "                     StructField(\"Description\",StringType(),True), \\\n",
        "                     StructField(\"Inside_Outside\", StringType(),True),\\\n",
        "                     StructField(\"Weapon\",StringType(),True), \\\n",
        "                     StructField(\"Post\",StringType(),True), \\\n",
        "                     StructField(\"District\",StringType(),True), \\\n",
        "                     StructField(\"Neighborhood\",StringType(),True), \\\n",
        "                     StructField(\"Latitude\",FloatType(),True), \\\n",
        "                     StructField(\"Longitude\",FloatType(),True), \\\n",
        "                     StructField(\"GeoLocation\",StringType(),True), \\\n",
        "                     StructField(\"VRIName\",StringType(),True), \\\n",
        "                     StructField(\"Total_Incidents\",IntegerType(),True), \\\n",
        "                     StructField(\"Shape\",StringType(),True) \\\n",
        "                     ])"
      ],
      "metadata": {
        "id": "i2v-A8AafUMr"
      },
      "execution_count": 58,
      "outputs": []
    },
    {
      "cell_type": "code",
      "source": [
        "# Defining the path:\n",
        "spark_file = \"/content/Part1_Crime_data.csv\"\n",
        "\n",
        "# Reading the csv with spark object and passing the schema defined above:\n",
        "\n",
        "spark_df = spark.read.csv(spark_file, header = True, schema = schema_)\n",
        "\n",
        "#caching the dataframe:\n",
        "spark_df = spark_df.cache()\n",
        "\n",
        "# Show the count of the rows\n",
        "print(\" The crimes dataframe has {} records\".format(spark_df.count()))"
      ],
      "metadata": {
        "colab": {
          "base_uri": "https://localhost:8080/"
        },
        "id": "FHKBNOC9h7f2",
        "outputId": "66a439c7-ea24-495a-e4a6-267e0301af42"
      },
      "execution_count": 46,
      "outputs": [
        {
          "output_type": "stream",
          "name": "stdout",
          "text": [
            " The crimes dataframe has 513756 records\n"
          ]
        }
      ]
    },
    {
      "cell_type": "code",
      "source": [
        "#printing the schema:\n",
        "\n",
        "spark_df.printSchema()"
      ],
      "metadata": {
        "colab": {
          "base_uri": "https://localhost:8080/"
        },
        "id": "2LaCA5M-kBt8",
        "outputId": "910f6de1-139f-41a6-e587-931bda103102"
      },
      "execution_count": 48,
      "outputs": [
        {
          "output_type": "stream",
          "name": "stdout",
          "text": [
            "root\n",
            " |-- X: string (nullable = true)\n",
            " |-- Y: float (nullable = true)\n",
            " |-- RowID: integer (nullable = true)\n",
            " |-- CrimeDate: string (nullable = true)\n",
            " |-- CrimeCode: string (nullable = true)\n",
            " |-- Location: string (nullable = true)\n",
            " |-- Description: string (nullable = true)\n",
            " |-- Inside_Outside: string (nullable = true)\n",
            " |-- Weapon: string (nullable = true)\n",
            " |-- Post: string (nullable = true)\n",
            " |-- District: string (nullable = true)\n",
            " |-- Neighborhood: string (nullable = true)\n",
            " |-- Latitude: float (nullable = true)\n",
            " |-- Longitude: float (nullable = true)\n",
            " |-- GeoLocation: string (nullable = true)\n",
            " |-- VRIName: string (nullable = true)\n",
            " |-- Total_Incidents: integer (nullable = true)\n",
            " |-- Shape: string (nullable = true)\n",
            "\n"
          ]
        }
      ]
    },
    {
      "cell_type": "code",
      "source": [
        "# Display first 5 rows\n",
        "spark_df.show(5, truncate= False)"
      ],
      "metadata": {
        "colab": {
          "base_uri": "https://localhost:8080/"
        },
        "id": "FLZ1VvbskB5T",
        "outputId": "7bb18d48-9b76-492f-fbf2-767211dd90f5"
      },
      "execution_count": 50,
      "outputs": [
        {
          "output_type": "stream",
          "name": "stdout",
          "text": [
            "+----------------+---------+-----+----------------------+---------+------------------+--------------------+--------------+-------+----+---------+--------------+--------+---------+------------------+-------+---------------+-----+\n",
            "|X               |Y        |RowID|CrimeDate             |CrimeCode|Location          |Description         |Inside_Outside|Weapon |Post|District |Neighborhood  |Latitude|Longitude|GeoLocation       |VRIName|Total_Incidents|Shape|\n",
            "+----------------+---------+-----+----------------------+---------+------------------+--------------------+--------------+-------+----+---------+--------------+--------+---------+------------------+-------+---------------+-----+\n",
            "|1428019.10487147|589532.75|1    |2022/03/05 03:43:00+00|3NF      |1800 FLEET ST     |ROBBERY - STREET    |null          |FIREARM|213 |SOUTHEAST|FELLS POINT   |39.2847 |-76.5913 |(39.2847,-76.5913)|null   |null           |1    |\n",
            "|1428019.10487147|589532.75|2    |2022/03/05 03:43:00+00|3NF      |1800 FLEET ST     |ROBBERY - STREET    |null          |FIREARM|213 |SOUTHEAST|FELLS POINT   |39.2847 |-76.5913 |(39.2847,-76.5913)|null   |null           |1    |\n",
            "|1428019.10487147|589532.75|3    |2022/03/05 03:43:00+00|3NF      |1800 FLEET ST     |ROBBERY - STREET    |null          |FIREARM|213 |SOUTHEAST|FELLS POINT   |39.2847 |-76.5913 |(39.2847,-76.5913)|null   |null           |1    |\n",
            "|1423024.46477252|572683.3 |4    |2022/03/05 04:30:00+00|3CF      |100 E PATAPSCO AVE|ROBBERY - COMMERCIAL|null          |FIREARM|913 |SOUTHERN |BROOKLYN      |39.2385 |-76.6092 |(39.2385,-76.6092)|null   |null           |1    |\n",
            "|1400632.37017858|593904.75|5    |2022/03/05 01:30:00+00|3AF      |RD & KEVIN RD     |ROBBERY - STREET    |null          |FIREARM|822 |SOUTHWEST|ROGNEL HEIGHTS|39.297  |-76.688  |(39.297,-76.688)  |null   |null           |1    |\n",
            "+----------------+---------+-----+----------------------+---------+------------------+--------------------+--------------+-------+----+---------+--------------+--------+---------+------------------+-------+---------------+-----+\n",
            "only showing top 5 rows\n",
            "\n"
          ]
        }
      ]
    },
    {
      "cell_type": "markdown",
      "source": [
        "### ANSWERS FOR THE GIVEN QUESTION:\n"
      ],
      "metadata": {
        "id": "L68DwKR5mMNf"
      }
    },
    {
      "cell_type": "code",
      "source": [
        "# 1. What are distinct crime codes?\n",
        "print(\"Total Number of distinct crime code are:\",spark_df.select('CrimeCode').distinct().count())\n",
        "\n",
        "spark_df.select('CrimeCode').distinct().sort('CrimeCode').show()"
      ],
      "metadata": {
        "colab": {
          "base_uri": "https://localhost:8080/"
        },
        "id": "xvk31aANqu8n",
        "outputId": "bea30947-b985-478b-901a-55d4740b8faa"
      },
      "execution_count": 60,
      "outputs": [
        {
          "output_type": "stream",
          "name": "stdout",
          "text": [
            "Total Number of distinct crime code are: 85\n",
            "+---------+\n",
            "|CrimeCode|\n",
            "+---------+\n",
            "|       1A|\n",
            "|       1K|\n",
            "|       1O|\n",
            "|       2A|\n",
            "|       2B|\n",
            "|      3AF|\n",
            "|     3AJF|\n",
            "|     3AJK|\n",
            "|     3AJO|\n",
            "|      3AK|\n",
            "|      3AO|\n",
            "|       3B|\n",
            "|      3BJ|\n",
            "|       3C|\n",
            "|      3CF|\n",
            "|      3CK|\n",
            "|      3CO|\n",
            "|       3D|\n",
            "|       3E|\n",
            "|      3EF|\n",
            "+---------+\n",
            "only showing top 20 rows\n",
            "\n"
          ]
        }
      ]
    },
    {
      "cell_type": "code",
      "source": [
        "# 2. Count the number of crimes by the crime codes and order by the resulting counts in descending order\n",
        "spark_df.groupBy('CrimeCode').count().orderBy('count', ascending=False).show()"
      ],
      "metadata": {
        "colab": {
          "base_uri": "https://localhost:8080/"
        },
        "id": "zYBuQiIXstzn",
        "outputId": "351be513-fdf7-439e-8b9c-16fe986133c1"
      },
      "execution_count": 12,
      "outputs": [
        {
          "output_type": "stream",
          "name": "stdout",
          "text": [
            "+---------+-----+\n",
            "|CrimeCode|count|\n",
            "+---------+-----+\n",
            "|       4E|91822|\n",
            "|       6D|68508|\n",
            "|       5A|43956|\n",
            "|       7A|40308|\n",
            "|       6J|27670|\n",
            "|       6G|26898|\n",
            "|       6E|24310|\n",
            "|       6C|23269|\n",
            "|       4C|22455|\n",
            "|       5D|14971|\n",
            "|      3AF|14760|\n",
            "|       4B|14501|\n",
            "|       4A|13240|\n",
            "|       3B|10735|\n",
            "|       4D| 7222|\n",
            "|       5B| 6481|\n",
            "|       9S| 5452|\n",
            "|       6F| 5058|\n",
            "|       5C| 4917|\n",
            "|       6B| 4106|\n",
            "+---------+-----+\n",
            "only showing top 20 rows\n",
            "\n"
          ]
        }
      ]
    },
    {
      "cell_type": "markdown",
      "source": [
        "Ans 2. It can be clearly seens, Crime code 4E has the highest count."
      ],
      "metadata": {
        "id": "_LAm5ZwNp7Uv"
      }
    },
    {
      "cell_type": "code",
      "source": [
        "# 3. Which neighborhood had most crimes?\n",
        "from pyspark.sql.functions import desc\n",
        "spark_df.groupBy(\"Neighborhood\").count().sort(desc(\"count\")).show()"
      ],
      "metadata": {
        "colab": {
          "base_uri": "https://localhost:8080/"
        },
        "id": "RiNzWXjyxyRu",
        "outputId": "d159c099-e5a8-41b3-bc31-94066a758599"
      },
      "execution_count": 57,
      "outputs": [
        {
          "output_type": "stream",
          "name": "stdout",
          "text": [
            "+--------------------+-----+\n",
            "|        Neighborhood|count|\n",
            "+--------------------+-----+\n",
            "|            DOWNTOWN|17818|\n",
            "|           FRANKFORD|12062|\n",
            "|       BELAIR-EDISON|10895|\n",
            "|            BROOKLYN| 9043|\n",
            "|              CANTON| 7548|\n",
            "| SANDTOWN-WINCHESTER| 7430|\n",
            "|         CHERRY HILL| 7407|\n",
            "|               UPTON| 6510|\n",
            "|        MOUNT VERNON| 6160|\n",
            "|         FELLS POINT| 6015|\n",
            "|        INNER HARBOR| 5990|\n",
            "|PATTERSON PARK NE...| 5988|\n",
            "|WASHINGTON VILLAG...| 5940|\n",
            "|      HAMILTON HILLS| 5917|\n",
            "|COLDSTREAM HOMEST...| 5819|\n",
            "|           MONDAWMIN| 5761|\n",
            "|      MCELDERRY PARK| 5676|\n",
            "|CENTRAL PARK HEIGHTS| 5258|\n",
            "|    CARROLLTON RIDGE| 5034|\n",
            "|       BROADWAY EAST| 5004|\n",
            "+--------------------+-----+\n",
            "only showing top 20 rows\n",
            "\n"
          ]
        }
      ]
    },
    {
      "cell_type": "markdown",
      "source": [
        "Ans 3. 'Downtown' has the highest crime number that is 17,818"
      ],
      "metadata": {
        "id": "L2oN--e2pXOt"
      }
    },
    {
      "cell_type": "code",
      "source": [
        "# 4. Which month of the year had most crimes?\n",
        "\n",
        "from pyspark.sql import functions as F\n",
        "\n",
        "#Checking the datatype of CrimeDate column again:\n",
        "#spark_df.select(\"CrimeDate\").dtypes\n",
        "\n",
        "#Creating another dataframe \"Dates\" which contains CrimeDate column as timestamp\n",
        "Dates= spark_df.withColumn(\"CrimeDate\",to_timestamp(\"CrimeDate\", 'yyyy/MM/dd HH:mm:ss+00'))\n",
        "\n",
        "#Checking the CrimeDate column's datatype:\n",
        "# Dates.select(\"CrimeDate\").dtypes\n",
        "\n",
        "#Now selecting only month from the CrimeDate column in \"month\" column and sorting by number of counts:\n",
        "Dates.select(F.date_format('CrimeDate','MM').alias('month')).groupby('month').count().sort(desc(\"count\")).show()"
      ],
      "metadata": {
        "colab": {
          "base_uri": "https://localhost:8080/"
        },
        "id": "027YT8RNxz3A",
        "outputId": "32180850-e93d-4a6f-fd19-301ec0e6032c"
      },
      "execution_count": 26,
      "outputs": [
        {
          "output_type": "stream",
          "name": "stdout",
          "text": [
            "+-----+-----+\n",
            "|month|count|\n",
            "+-----+-----+\n",
            "|   08|46322|\n",
            "|   10|46207|\n",
            "|   07|45982|\n",
            "|   05|45035|\n",
            "|   06|44989|\n",
            "|   09|44827|\n",
            "|   01|42225|\n",
            "|   11|42022|\n",
            "|   12|41593|\n",
            "|   04|40012|\n",
            "|   03|39002|\n",
            "|   02|35540|\n",
            "+-----+-----+\n",
            "\n"
          ]
        }
      ]
    },
    {
      "cell_type": "markdown",
      "source": [
        "Ans 4. 08 being 'August' the month when most of the crimes has happened in the year 2017. "
      ],
      "metadata": {
        "id": "ehzrJLsvo5bf"
      }
    },
    {
      "cell_type": "code",
      "source": [
        "# 5. What weapons were used? \n",
        "\n",
        "# Removing the null values from the column \"Weapon\":\n",
        "spark_df = spark_df.na.drop(subset=[\"Weapon\"])\n",
        "\n",
        "spark_df.select(\"Weapon\").distinct().show()"
      ],
      "metadata": {
        "colab": {
          "base_uri": "https://localhost:8080/"
        },
        "id": "1PHM1foYx0B7",
        "outputId": "2b88e808-45e0-4cd3-95f5-30d5d1c30b53"
      },
      "execution_count": 64,
      "outputs": [
        {
          "output_type": "stream",
          "name": "stdout",
          "text": [
            "+-------+\n",
            "| Weapon|\n",
            "+-------+\n",
            "|     NA|\n",
            "|  HANDS|\n",
            "|  KNIFE|\n",
            "|  OTHER|\n",
            "|   FIRE|\n",
            "|FIREARM|\n",
            "+-------+\n",
            "\n"
          ]
        }
      ]
    },
    {
      "cell_type": "markdown",
      "source": [
        "Ans 5. The different kind of weapons used were NA, Hands, Knife, Other, Fire, Firearms"
      ],
      "metadata": {
        "id": "hihYmUT0ovCM"
      }
    },
    {
      "cell_type": "code",
      "source": [
        "# 6. Which weapon was used the most?\n",
        "spark_df.groupBy(\"Weapon\").count().sort(desc(\"count\")).show()"
      ],
      "metadata": {
        "colab": {
          "base_uri": "https://localhost:8080/"
        },
        "id": "fxysz3WIx0KY",
        "outputId": "6ee983f3-963a-406d-a29b-f8ca6323c1ff"
      },
      "execution_count": 65,
      "outputs": [
        {
          "output_type": "stream",
          "name": "stdout",
          "text": [
            "+-------+------+\n",
            "| Weapon| count|\n",
            "+-------+------+\n",
            "|     NA|408269|\n",
            "|FIREARM| 46217|\n",
            "|  OTHER| 30293|\n",
            "|  KNIFE| 19181|\n",
            "|  HANDS|  7222|\n",
            "|   FIRE|  2348|\n",
            "+-------+------+\n",
            "\n"
          ]
        }
      ]
    },
    {
      "cell_type": "markdown",
      "source": [
        "Ans 6. Weapons with 'NA' category were used the most."
      ],
      "metadata": {
        "id": "y18hnPsrnlqP"
      }
    },
    {
      "cell_type": "markdown",
      "source": [
        "### --------------------------------------------------------------------------------END OF ASSIGNMENT-------------------------------------------------------------------"
      ],
      "metadata": {
        "id": "2D0TPk_FnsoD"
      }
    },
    {
      "cell_type": "code",
      "source": [
        ""
      ],
      "metadata": {
        "id": "a8pnTJV9uxbK"
      },
      "execution_count": null,
      "outputs": []
    }
  ]
}