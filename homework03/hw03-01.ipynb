{
 "cells": [
  {
   "cell_type": "code",
   "execution_count": 1,
   "id": "95e86af8",
   "metadata": {
    "scrolled": true
   },
   "outputs": [
    {
     "name": "stdout",
     "output_type": "stream",
     "text": [
      "Overwriting tc.py\n"
     ]
    }
   ],
   "source": [
    "%%file tc.py\n",
    "from mrjob.job import MRJob\n",
    "import re\n",
    "\n",
    "class LineAverage(MRJob):\n",
    "\n",
    "    def mapper(self, _, line):\n",
    "        \n",
    "        #spliting the csv file by comma\n",
    "        #professor here I haven't tried cleaning the csv file\n",
    "        #so this mapper function considers characters and numbers as word as well\n",
    "        col = line.split(',') \n",
    "        \n",
    "        #yielding the \n",
    "        yield 'word_count', len(col[4].split())\n",
    "\n",
    "    def reducer(self, key, values):\n",
    "        #this is the average function:\n",
    "        i,total,total1=0,0,0\n",
    "        for i in values:\n",
    "            total += 1\n",
    "            total1 += i     \n",
    "        yield \"avg\", total1/float(total)\n",
    "        \n",
    "if __name__ == '__main__':\n",
    "    LineAverage.run()"
   ]
  },
  {
   "cell_type": "code",
   "execution_count": 2,
   "id": "9aa260e7",
   "metadata": {
    "scrolled": true
   },
   "outputs": [
    {
     "name": "stderr",
     "output_type": "stream",
     "text": [
      "  % Total    % Received % Xferd  Average Speed   Time    Time     Time  Current\n",
      "                                 Dload  Upload   Total   Spent    Left  Speed\n",
      "\n",
      "  0     0    0     0    0     0      0      0 --:--:-- --:--:-- --:--:--     0\n",
      "  0     0    0     0    0     0      0      0 --:--:-- --:--:-- --:--:--     0\n",
      "100 7901k  100 7901k    0     0  8999k      0 --:--:-- --:--:-- --:--:-- 8999k\n"
     ]
    }
   ],
   "source": [
    "!curl https://raw.githubusercontent.com/0203ANU/data603-sp22/main/homework03/yelp_data.csv -o hello.csv"
   ]
  },
  {
   "cell_type": "code",
   "execution_count": 3,
   "id": "fe4b5c99",
   "metadata": {
    "scrolled": true
   },
   "outputs": [
    {
     "name": "stderr",
     "output_type": "stream",
     "text": [
      "No configs specified for inline runner\n"
     ]
    },
    {
     "name": "stdout",
     "output_type": "stream",
     "text": [
      "avg 29.01269873012699\n"
     ]
    }
   ],
   "source": [
    "import tc\n",
    "\n",
    "mr_job = tc.LineAverage(args=['hello.csv'])\n",
    "with mr_job.make_runner() as runner:\n",
    "    runner.run()\n",
    "    for key, value in mr_job.parse_output(runner.cat_output()):\n",
    "        print(key, value)"
   ]
  },
  {
   "cell_type": "markdown",
   "id": "d93eaf59",
   "metadata": {},
   "source": [
    "### --------------------------------------------------------- End of Question One ---------------------------------------------------------------------"
   ]
  }
 ],
 "metadata": {
  "kernelspec": {
   "display_name": "Python 3",
   "language": "python",
   "name": "python3"
  },
  "language_info": {
   "codemirror_mode": {
    "name": "ipython",
    "version": 3
   },
   "file_extension": ".py",
   "mimetype": "text/x-python",
   "name": "python",
   "nbconvert_exporter": "python",
   "pygments_lexer": "ipython3",
   "version": "3.8.8"
  }
 },
 "nbformat": 4,
 "nbformat_minor": 5
}
