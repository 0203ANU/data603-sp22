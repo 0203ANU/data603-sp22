{
 "cells": [
  {
   "cell_type": "code",
   "execution_count": 2,
   "id": "dfab8e69",
   "metadata": {},
   "outputs": [
    {
     "name": "stdout",
     "output_type": "stream",
     "text": [
      "Overwriting year_month_count.py\n"
     ]
    }
   ],
   "source": [
    "%%file year_month_count.py\n",
    "\n",
    "from mrjob.job import MRJob\n",
    "import re\n",
    "\n",
    "#defining the pattern to take year and month pattern from the csv file:\n",
    "pattern = re.compile('\\d{4}-\\d{2}')\n",
    "\n",
    "class MRtest_class(MRJob):\n",
    "    \n",
    "    def mapper(self,_,line):\n",
    "        #spliting the csv file by comma\n",
    "        split_word = line.split(',')\n",
    "        \n",
    "        #saving the date column in date_col\n",
    "        date_col = split_word[1]\n",
    "        \n",
    "        #using re.finall method to extract the given pattern \n",
    "        date = re.findall(pattern,date_col)\n",
    "        yield date ,1 \n",
    "        \n",
    "    def reducer(self,key,value):\n",
    "        yield key, sum(value)\n",
    "    \n",
    "            \n",
    "if __name__ == '__main__':\n",
    "    MRtest_class.run()"
   ]
  },
  {
   "cell_type": "code",
   "execution_count": 3,
   "id": "3ae350da",
   "metadata": {},
   "outputs": [
    {
     "name": "stderr",
     "output_type": "stream",
     "text": [
      "  % Total    % Received % Xferd  Average Speed   Time    Time     Time  Current\n",
      "                                 Dload  Upload   Total   Spent    Left  Speed\n",
      "\n",
      "  0     0    0     0    0     0      0      0 --:--:-- --:--:-- --:--:--     0\n",
      "100 7901k  100 7901k    0     0  12.5M      0 --:--:-- --:--:-- --:--:-- 12.5M\n"
     ]
    }
   ],
   "source": [
    "!curl https://raw.githubusercontent.com/0203ANU/data603-sp22/main/homework03/yelp_data.csv -o hello.csv"
   ]
  },
  {
   "cell_type": "code",
   "execution_count": 4,
   "id": "319a21b4",
   "metadata": {},
   "outputs": [
    {
     "name": "stderr",
     "output_type": "stream",
     "text": [
      "No configs specified for inline runner\n"
     ]
    },
    {
     "name": "stdout",
     "output_type": "stream",
     "text": [
      "['2005-04'] 1\n",
      "['2005-07'] 2\n",
      "['2005-12'] 1\n",
      "['2006-01'] 6\n",
      "['2006-02'] 9\n",
      "['2006-04'] 2\n",
      "['2006-05'] 1\n",
      "['2006-06'] 5\n",
      "['2006-07'] 2\n",
      "['2006-08'] 9\n",
      "['2006-09'] 4\n",
      "['2006-10'] 5\n",
      "['2006-11'] 6\n",
      "['2006-12'] 6\n",
      "['2007-01'] 14\n",
      "['2007-02'] 20\n",
      "['2007-03'] 42\n",
      "['2007-04'] 8\n",
      "['2007-05'] 23\n",
      "['2007-06'] 12\n",
      "['2007-07'] 35\n",
      "['2007-08'] 29\n",
      "['2007-09'] 26\n",
      "['2007-10'] 23\n",
      "['2007-11'] 28\n",
      "['2007-12'] 25\n",
      "['2008-01'] 46\n",
      "['2008-02'] 48\n",
      "['2008-03'] 47\n",
      "['2008-04'] 53\n",
      "['2008-05'] 65\n",
      "['2008-06'] 76\n",
      "['2008-07'] 80\n",
      "['2008-08'] 75\n",
      "['2008-09'] 59\n",
      "['2008-10'] 79\n",
      "['2008-11'] 66\n",
      "['2008-12'] 71\n",
      "['2009-01'] 108\n",
      "['2009-02'] 79\n",
      "['2009-03'] 126\n",
      "['2009-04'] 101\n",
      "['2009-05'] 101\n",
      "['2009-06'] 67\n",
      "['2009-07'] 95\n",
      "['2009-08'] 98\n",
      "['2009-09'] 113\n",
      "['2009-10'] 101\n",
      "['2009-11'] 78\n",
      "['2009-12'] 104\n",
      "['2010-01'] 154\n",
      "['2010-02'] 148\n",
      "['2010-03'] 168\n",
      "['2010-04'] 148\n",
      "['2010-05'] 154\n",
      "['2010-06'] 118\n",
      "['2010-07'] 160\n",
      "['2010-08'] 201\n",
      "['2010-09'] 150\n",
      "['2010-10'] 144\n",
      "['2010-11'] 147\n",
      "['2010-12'] 160\n",
      "['2011-01'] 239\n",
      "['2011-02'] 216\n",
      "['2011-03'] 263\n",
      "['2011-04'] 263\n",
      "['2011-05'] 229\n",
      "['2011-06'] 230\n",
      "['2011-07'] 236\n",
      "['2011-08'] 266\n",
      "['2011-09'] 193\n",
      "['2011-10'] 204\n",
      "['2011-11'] 203\n",
      "['2011-12'] 249\n",
      "['2012-01'] 304\n",
      "['2012-02'] 219\n",
      "['2012-03'] 259\n",
      "['2012-04'] 265\n",
      "['2012-05'] 275\n",
      "['2012-06'] 272\n",
      "['2012-07'] 281\n",
      "['2012-08'] 249\n",
      "['2012-09'] 239\n",
      "['2012-10'] 258\n",
      "['2012-11'] 208\n",
      "['2012-12'] 196\n",
      "['2013-01'] 52\n",
      "[] 1\n"
     ]
    }
   ],
   "source": [
    "#importing the year_month_count file\n",
    "import year_month_count\n",
    "\n",
    "mr_job = year_month_count.MRtest_class(args=['hello.csv'])\n",
    "with mr_job.make_runner() as runner:\n",
    "    runner.run()\n",
    "    for key, value in mr_job.parse_output(runner.cat_output()):\n",
    "        print(key, value)"
   ]
  },
  {
   "cell_type": "markdown",
   "id": "e7fe3750",
   "metadata": {},
   "source": [
    "### ----------------------------------------------------- End of Question Two --------------------------------------------------------------------------"
   ]
  }
 ],
 "metadata": {
  "kernelspec": {
   "display_name": "Python 3",
   "language": "python",
   "name": "python3"
  },
  "language_info": {
   "codemirror_mode": {
    "name": "ipython",
    "version": 3
   },
   "file_extension": ".py",
   "mimetype": "text/x-python",
   "name": "python",
   "nbconvert_exporter": "python",
   "pygments_lexer": "ipython3",
   "version": "3.8.8"
  }
 },
 "nbformat": 4,
 "nbformat_minor": 5
}
