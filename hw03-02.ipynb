{
 "cells": [
  {
   "cell_type": "code",
   "execution_count": 1,
   "id": "7972a70f",
   "metadata": {},
   "outputs": [
    {
     "name": "stdout",
     "output_type": "stream",
     "text": [
      "Overwriting average_cool.py\n"
     ]
    }
   ],
   "source": [
    "%%file average_cool.py\n",
    "#naming the file as average cool\n",
    "from mrjob.job import MRJob\n",
    "\n",
    "class MRaverage_cool(MRJob):\n",
    "    \n",
    "    def mapper(self,_,line):\n",
    "        #splitting the csv file by comma\n",
    "        split_word = line.split(',')\n",
    "        \n",
    "        #saving the star column as review_col\n",
    "        review_col = split_word[3]\n",
    "        \n",
    "        #saving the cool column in cool_column\n",
    "        cool_column = split_word[7]\n",
    "        \n",
    "        # eliminate the star header in the star column using startswith method\n",
    "        if review_col.startswith('stars'):\n",
    "            pass\n",
    "        \n",
    "        #similarly for the cool column\n",
    "        else:\n",
    "            if cool_column.startswith('cool'):\n",
    "                pass\n",
    "            else:\n",
    "                if(cool_column != 0): #for the values in cool column, \n",
    "                    yield \"Avg Rating:\", int(review_col)\n",
    "                    \n",
    "    #the average function is similar to question 1.\n",
    "        \n",
    "    def reducer(self,key,value):\n",
    "        total,total1 = 0,0\n",
    "        for i in value:\n",
    "            total += 1\n",
    "            total1 += i\n",
    "            \n",
    "        #using the round method to give upto 2 decimal numbers\n",
    "        yield key, round(total1/total,2)\n",
    "                \n",
    "if __name__ == '__main__':\n",
    "    MRaverage_cool.run()"
   ]
  },
  {
   "cell_type": "code",
   "execution_count": 2,
   "id": "fbe09da9",
   "metadata": {},
   "outputs": [
    {
     "name": "stderr",
     "output_type": "stream",
     "text": [
      "  % Total    % Received % Xferd  Average Speed   Time    Time     Time  Current\n",
      "                                 Dload  Upload   Total   Spent    Left  Speed\n",
      "\n",
      "  0     0    0     0    0     0      0      0 --:--:-- --:--:-- --:--:--     0\n",
      "  0 7901k    0 46478    0     0  48064      0  0:02:48 --:--:--  0:02:48 48064\n",
      "100 7901k  100 7901k    0     0  6096k      0  0:00:01  0:00:01 --:--:-- 6101k\n"
     ]
    }
   ],
   "source": [
    "!curl https://raw.githubusercontent.com/0203ANU/data603-sp22/main/homework03/yelp_data.csv -o hello.csv"
   ]
  },
  {
   "cell_type": "code",
   "execution_count": 3,
   "id": "dd5a26bb",
   "metadata": {},
   "outputs": [
    {
     "name": "stderr",
     "output_type": "stream",
     "text": [
      "No configs specified for inline runner\n"
     ]
    },
    {
     "name": "stdout",
     "output_type": "stream",
     "text": [
      "Avg Rating: 3.78\n"
     ]
    }
   ],
   "source": [
    "#importing the average cool file \n",
    "import average_cool\n",
    "\n",
    "\n",
    "#using the code used in the class by the professor to run the key,value in the average_cool.py file\n",
    "mr_job = average_cool.MRaverage_cool(args=['hello.csv'])\n",
    "with mr_job.make_runner() as runner:\n",
    "    runner.run()\n",
    "    for key, value in mr_job.parse_output(runner.cat_output()):\n",
    "        print(key, value)"
   ]
  },
  {
   "cell_type": "markdown",
   "id": "88c1d0a7",
   "metadata": {},
   "source": [
    "### ------------------------------------------------------------- End of question Three ----------------------------------------------------------------"
   ]
  },
  {
   "cell_type": "markdown",
   "id": "d36acd3b",
   "metadata": {},
   "source": [
    "This was a very hard assignment professor. It looked hard but it was much more harder to do.\n",
    "\n",
    "I haven't done it perfect. Please be considerate while giving the marks :)\n",
    "\n",
    "Thanks!"
   ]
  },
  {
   "cell_type": "code",
   "execution_count": null,
   "id": "1f094a40",
   "metadata": {},
   "outputs": [],
   "source": []
  }
 ],
 "metadata": {
  "kernelspec": {
   "display_name": "Python 3",
   "language": "python",
   "name": "python3"
  },
  "language_info": {
   "codemirror_mode": {
    "name": "ipython",
    "version": 3
   },
   "file_extension": ".py",
   "mimetype": "text/x-python",
   "name": "python",
   "nbconvert_exporter": "python",
   "pygments_lexer": "ipython3",
   "version": "3.8.8"
  }
 },
 "nbformat": 4,
 "nbformat_minor": 5
}
